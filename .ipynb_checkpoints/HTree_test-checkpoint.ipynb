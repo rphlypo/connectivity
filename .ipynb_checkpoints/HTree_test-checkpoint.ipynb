{
 "metadata": {
  "name": "",
  "signature": "sha256:4165ac2996d7573bbc807144dae21cb2a3ec044f1a7b1fb37b9ea8584dff0adb"
 },
 "nbformat": 3,
 "nbformat_minor": 0,
 "worksheets": [
  {
   "cells": [
    {
     "cell_type": "code",
     "collapsed": false,
     "input": [
      "import htree\n",
      "reload(htree)\n",
      "import numpy as np"
     ],
     "language": "python",
     "metadata": {},
     "outputs": [],
     "prompt_number": 139
    },
    {
     "cell_type": "code",
     "collapsed": false,
     "input": [
      "tree = htree.HTree()\n",
      "tree.tree([[[0, [1, 2]],[3, 4], 5], [6, [7, 8]]])"
     ],
     "language": "python",
     "metadata": {},
     "outputs": [
      {
       "metadata": {},
       "output_type": "pyout",
       "prompt_number": 140,
       "text": [
        "<htree.HTree at 0x47620d0>"
       ]
      }
     ],
     "prompt_number": 140
    },
    {
     "cell_type": "code",
     "collapsed": false,
     "input": [
      "tree.root_.children[0].children[1].complement()"
     ],
     "language": "python",
     "metadata": {},
     "outputs": [
      {
       "metadata": {},
       "output_type": "pyout",
       "prompt_number": 141,
       "text": [
        "{(0, 1, 2), (5,)}"
       ]
      }
     ],
     "prompt_number": 141
    },
    {
     "cell_type": "code",
     "collapsed": false,
     "input": [
      "[(node.evaluate(), node_level) for (node, node_level) in htree._get_node_list(tree.root_, level=0)]"
     ],
     "language": "python",
     "metadata": {},
     "outputs": [
      {
       "metadata": {},
       "output_type": "pyout",
       "prompt_number": 142,
       "text": [
        "[((0, 1, 2, 3, 4, 5, 6, 7, 8), 0),\n",
        " ((0, 1, 2, 3, 4, 5), 1),\n",
        " ((0, 1, 2), 2),\n",
        " ((0,), 3),\n",
        " ((1, 2), 3),\n",
        " ((1,), 4),\n",
        " ((2,), 4),\n",
        " ((3, 4), 2),\n",
        " ((3,), 3),\n",
        " ((4,), 3),\n",
        " ((5,), 2),\n",
        " ((6, 7, 8), 1),\n",
        " ((6,), 2),\n",
        " ((7, 8), 2),\n",
        " ((7,), 3),\n",
        " ((8,), 3)]"
       ]
      }
     ],
     "prompt_number": 142
    },
    {
     "cell_type": "code",
     "collapsed": false,
     "input": [
      "[(node.value_, node.level_) for node in tree.get_nodes()]"
     ],
     "language": "python",
     "metadata": {},
     "outputs": [
      {
       "metadata": {},
       "output_type": "pyout",
       "prompt_number": 143,
       "text": [
        "[((0, 1, 2, 3, 4, 5, 6, 7, 8), 0),\n",
        " ((0, 1, 2, 3, 4, 5), 1),\n",
        " ((0, 1, 2), 2),\n",
        " ((0,), 3),\n",
        " ((1, 2), 3),\n",
        " ((1,), 4),\n",
        " ((2,), 4),\n",
        " ((3, 4), 2),\n",
        " ((3,), 3),\n",
        " ((4,), 3),\n",
        " ((5,), 2),\n",
        " ((6, 7, 8), 1),\n",
        " ((6,), 2),\n",
        " ((7, 8), 2),\n",
        " ((7,), 3),\n",
        " ((8,), 3)]"
       ]
      }
     ],
     "prompt_number": 143
    }
   ],
   "metadata": {}
  }
 ]
}