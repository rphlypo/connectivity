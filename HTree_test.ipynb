{
 "metadata": {
  "name": "",
  "signature": "sha256:e2833bd7ab00810db411b2e3b4e466477ba240c18a5ec6ecaf8b29a502165f33"
 },
 "nbformat": 3,
 "nbformat_minor": 0,
 "worksheets": [
  {
   "cells": [
    {
     "cell_type": "code",
     "collapsed": false,
     "input": [
      "import htree\n",
      "reload(htree)\n",
      "import numpy as np"
     ],
     "language": "python",
     "metadata": {},
     "outputs": [],
     "prompt_number": 45
    },
    {
     "cell_type": "code",
     "collapsed": false,
     "input": [
      "tree = htree.HTree()\n",
      "tree.tree([[[0, [1, 2]],[3, 4], 5], [6, [7, 8]]])"
     ],
     "language": "python",
     "metadata": {},
     "outputs": [
      {
       "metadata": {},
       "output_type": "pyout",
       "prompt_number": 46,
       "text": [
        "<htree.HTree at 0x3175b90>"
       ]
      }
     ],
     "prompt_number": 46
    },
    {
     "cell_type": "code",
     "collapsed": false,
     "input": [
      "tree.root_.children[0].children[1].complement()"
     ],
     "language": "python",
     "metadata": {},
     "outputs": [
      {
       "metadata": {},
       "output_type": "pyout",
       "prompt_number": 47,
       "text": [
        "{(0, 1, 2), (5,)}"
       ]
      }
     ],
     "prompt_number": 47
    },
    {
     "cell_type": "code",
     "collapsed": false,
     "input": [
      "[(node.evaluate(), node_level) for (node, node_level) in htree._get_node_list(tree.root_, level=0)]"
     ],
     "language": "python",
     "metadata": {},
     "outputs": [
      {
       "metadata": {},
       "output_type": "pyout",
       "prompt_number": 48,
       "text": [
        "[((0, 1, 2, 3, 4, 5, 6, 7, 8), 0),\n",
        " ((0, 1, 2, 3, 4, 5), 1),\n",
        " ((0, 1, 2), 2),\n",
        " ((0,), 3),\n",
        " ((1, 2), 3),\n",
        " ((1,), 4),\n",
        " ((2,), 4),\n",
        " ((3, 4), 2),\n",
        " ((3,), 3),\n",
        " ((4,), 3),\n",
        " ((5,), 2),\n",
        " ((6, 7, 8), 1),\n",
        " ((6,), 2),\n",
        " ((7, 8), 2),\n",
        " ((7,), 3),\n",
        " ((8,), 3)]"
       ]
      }
     ],
     "prompt_number": 48
    },
    {
     "cell_type": "code",
     "collapsed": false,
     "input": [
      "[(node.value_, node.level_) for node in tree.get_nodes()]"
     ],
     "language": "python",
     "metadata": {},
     "outputs": [
      {
       "metadata": {},
       "output_type": "pyout",
       "prompt_number": 49,
       "text": [
        "[((0, 1, 2, 3, 4, 5, 6, 7, 8), 0),\n",
        " ((0, 1, 2, 3, 4, 5), 1),\n",
        " ((0, 1, 2), 2),\n",
        " ((0,), 3),\n",
        " ((1, 2), 3),\n",
        " ((1,), 4),\n",
        " ((2,), 4),\n",
        " ((3, 4), 2),\n",
        " ((3,), 3),\n",
        " ((4,), 3),\n",
        " ((5,), 2),\n",
        " ((6, 7, 8), 1),\n",
        " ((6,), 2),\n",
        " ((7, 8), 2),\n",
        " ((7,), 3),\n",
        " ((8,), 3)]"
       ]
      }
     ],
     "prompt_number": 49
    },
    {
     "cell_type": "code",
     "collapsed": false,
     "input": [
      "[node.evaluate() for node in tree.root_.children]"
     ],
     "language": "python",
     "metadata": {},
     "outputs": [
      {
       "metadata": {},
       "output_type": "pyout",
       "prompt_number": 50,
       "text": [
        "[(0, 1, 2, 3, 4, 5), (6, 7, 8)]"
       ]
      }
     ],
     "prompt_number": 50
    },
    {
     "cell_type": "code",
     "collapsed": false,
     "input": [
      "nl = tree.root_.get_descendants()\n",
      "print nl\n",
      "nl.sort(key=lambda x: x[1])\n",
      "nl.reverse()\n",
      "print [lev for (n, lev) in nl]"
     ],
     "language": "python",
     "metadata": {},
     "outputs": [
      {
       "output_type": "stream",
       "stream": "stdout",
       "text": [
        "[(<htree.Node object at 0x3175cd0>, 0), (<htree.Node object at 0x3175c10>, 1), (<htree.Node object at 0x3175d10>, 1), (<htree.Node object at 0x3175590>, 2), (<htree.Node object at 0x3175b10>, 2), (<htree.Node object at 0x3175d90>, 2), (<htree.Node object at 0x317c190>, 2), (<htree.Node object at 0x317c1d0>, 2), (<htree.Node object at 0x3175e50>, 3), (<htree.Node object at 0x3175b50>, 3), (<htree.Node object at 0x317c090>, 3), (<htree.Node object at 0x317c150>, 3), (<htree.Node object at 0x317c290>, 3), (<htree.Node object at 0x317c2d0>, 3), (<htree.Node object at 0x317c0d0>, 4), (<htree.Node object at 0x317c110>, 4)]\n",
        "[4, 4, 3, 3, 3, 3, 3, 3, 2, 2, 2, 2, 2, 1, 1, 0]\n"
       ]
      }
     ],
     "prompt_number": 59
    },
    {
     "cell_type": "code",
     "collapsed": false,
     "input": [
      "B = np.random.normal(size=(3,5))\n",
      "A = np.array([[], []])"
     ],
     "language": "python",
     "metadata": {},
     "outputs": []
    }
   ],
   "metadata": {}
  }
 ]
}